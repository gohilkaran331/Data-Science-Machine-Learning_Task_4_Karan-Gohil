{
  "nbformat": 4,
  "nbformat_minor": 0,
  "metadata": {
    "colab": {
      "provenance": []
    },
    "kernelspec": {
      "name": "python3",
      "display_name": "Python 3"
    },
    "language_info": {
      "name": "python"
    }
  },
  "cells": [
    {
      "cell_type": "code",
      "execution_count": 16,
      "metadata": {
        "colab": {
          "base_uri": "https://localhost:8080/"
        },
        "id": "tllkCsg9Osjc",
        "outputId": "ad57b652-d35b-41d0-a1d4-090f9c9dd37b"
      },
      "outputs": [
        {
          "output_type": "stream",
          "name": "stdout",
          "text": [
            "Items             Shirt  Shoes\n",
            "Gender Age Group              \n",
            "Female 20-30          0      2\n",
            "       30-40          1      0\n",
            "       40-50          0      1\n",
            "Male   20-30          1      0\n",
            "       30-40          0      1\n",
            "       40-50          1      1\n"
          ]
        }
      ],
      "source": [
        "import pandas as pd\n",
        "\n",
        "# Building DataFrame\n",
        "data = {\n",
        "    'Gender': ['Male', 'Female', 'Female', 'Male', 'Female', 'Male', 'Male','Female'],\n",
        "    'Age Group': ['20-30', '20-30', '30-40', '30-40', '20-30', '40-50', '40-50','40-50'],\n",
        "    'Items': ['Shirt', 'Shoes', 'Shirt', 'Shoes', 'Shoes', 'Shirt', 'Shoes', 'Shoes']\n",
        "}\n",
        "\n",
        "df = pd.DataFrame(data)\n",
        "\n",
        "# Creating a contingency table with multiple categorical variables\n",
        "contingency_table = pd.crosstab([df['Gender'], df['Age Group']], df['Items'])\n",
        "\n",
        "# Display the contingency table\n",
        "print(contingency_table)"
      ]
    },
    {
      "cell_type": "code",
      "source": [],
      "metadata": {
        "id": "HcYKAK7JQZLH"
      },
      "execution_count": null,
      "outputs": []
    }
  ]
}